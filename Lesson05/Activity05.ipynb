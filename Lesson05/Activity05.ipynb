{
 "cells": [
  {
   "cell_type": "markdown",
   "metadata": {},
   "source": [
    "### Activity: Create interactive temporal visualization  \n",
    "\n",
    "In this activity we will combine all the knowledge of time-series manipulation and range-slider learned in\n",
    "previous exercises. \n",
    "Interactive slider is commnly used in time-series visualization"
   ]
  },
  {
   "cell_type": "markdown",
   "metadata": {},
   "source": [
    "**import the required libraries**"
   ]
  },
  {
   "cell_type": "code",
   "execution_count": null,
   "metadata": {},
   "outputs": [],
   "source": [
    "from bokeh.io import show\n",
    "from bokeh.layouts import column\n",
    "from bokeh.models import ColumnDataSource, RangeTool\n",
    "from bokeh.plotting import figure\n",
    "from bokeh.io import push_notebook, show, output_notebook\n",
    "from pathlib import Path\n",
    "import pandas as pd\n",
    "import numpy as np\n",
    "from ipywidgets import interact\n",
    "%matplotlib inline"
   ]
  },
  {
   "cell_type": "markdown",
   "metadata": {},
   "source": [
    "**setup the output to jupyter notebook**"
   ]
  },
  {
   "cell_type": "code",
   "execution_count": null,
   "metadata": {},
   "outputs": [],
   "source": [
    "DATA_PATH = Path('../datasets/chap5_data/')\n",
    "output_notebook()"
   ]
  },
  {
   "cell_type": "markdown",
   "metadata": {},
   "source": [
    "**create a dataframe `microsoft_df` and parse the date column**"
   ]
  },
  {
   "cell_type": "code",
   "execution_count": null,
   "metadata": {},
   "outputs": [],
   "source": [
    "microsoft_df = pd.read_csv(DATA_PATH / \"microsoft_stock.csv\", parse_dates=['date'])\n",
    "microsoft_df.head()"
   ]
  },
  {
   "cell_type": "markdown",
   "metadata": {},
   "source": [
    "**Set the index as date**"
   ]
  },
  {
   "cell_type": "code",
   "execution_count": null,
   "metadata": {},
   "outputs": [],
   "source": [
    "microsoft_df.index = microsoft_df.date"
   ]
  },
  {
   "cell_type": "markdown",
   "metadata": {},
   "source": [
    "**create `date` numpy array and `source` as ColumnDataSource. We will use these to draw line plot.**"
   ]
  },
  {
   "cell_type": "code",
   "execution_count": null,
   "metadata": {},
   "outputs": [],
   "source": [
    "dates = np.array(microsoft_df['date'], dtype=np.datetime64)\n",
    "source = ColumnDataSource(data=dict(date=dates, close=microsoft_df['high']))"
   ]
  },
  {
   "cell_type": "markdown",
   "metadata": {},
   "source": [
    "**initialize the figure and drwa the line**"
   ]
  },
  {
   "cell_type": "code",
   "execution_count": null,
   "metadata": {},
   "outputs": [],
   "source": [
    "p = figure(plot_height=300, plot_width=800, tools=\"xpan\", toolbar_location=None, title=\"Time Series Stock Data\",\n",
    "           x_axis_type=\"datetime\", x_axis_location=\"above\",\n",
    "           background_fill_color=\"#ffefef\", x_range=(dates[1000], dates[1800]))\n",
    "\n",
    "r = p.line('date', 'close', source=source)\n",
    "p.yaxis.axis_label = 'High Price'\n"
   ]
  },
  {
   "cell_type": "markdown",
   "metadata": {},
   "source": [
    "**Create range slider using `RangeTool`**"
   ]
  },
  {
   "cell_type": "code",
   "execution_count": null,
   "metadata": {},
   "outputs": [],
   "source": [
    "select = figure(title=\"Drag the Slider\",\n",
    "                plot_height=130, plot_width=800, y_range=p.y_range,\n",
    "                x_axis_type=\"datetime\", y_axis_type=None,\n",
    "                tools=\"\", toolbar_location=None, background_fill_color=\"#ffefef\")\n",
    "\n",
    "range_tool = RangeTool(x_range=p.x_range)\n",
    "range_tool.overlay.fill_color = \"green\"\n",
    "range_tool.overlay.fill_alpha = 0.2\n"
   ]
  },
  {
   "cell_type": "markdown",
   "metadata": {},
   "source": [
    "**Write a custom update function which aggregate data by `month`, `year` and `day`**"
   ]
  },
  {
   "cell_type": "code",
   "execution_count": null,
   "metadata": {},
   "outputs": [],
   "source": [
    "def update(f):\n",
    "    if   f == \"day\":\n",
    "        r.data_source.data = dict({\n",
    "            'date': microsoft_df.index,\n",
    "            'close': microsoft_df.high\n",
    "        })\n",
    "    elif f == \"month\":\n",
    "        month = microsoft_df.groupby(pd.Grouper(freq=\"M\"))[['high']].mean()\n",
    "        r.data_source.data = dict({\n",
    "            'date': month.index,\n",
    "            'close': month.high\n",
    "        })\n",
    "    elif f == \"year\":\n",
    "        year = microsoft_df.groupby(pd.Grouper(freq=\"Y\"))[['high']].mean()\n",
    "        r.data_source.data = dict({\n",
    "            'date': year.index,\n",
    "            'close': year.high\n",
    "        })\n",
    "    \n",
    "    push_notebook()"
   ]
  },
  {
   "cell_type": "markdown",
   "metadata": {},
   "source": [
    "**Plot both range slider and aggregator on figure**"
   ]
  },
  {
   "cell_type": "code",
   "execution_count": null,
   "metadata": {},
   "outputs": [],
   "source": [
    "select.line('date', 'close', source=source)\n",
    "select.ygrid.grid_line_color = None\n",
    "select.add_tools(range_tool)\n",
    "select.toolbar.active_multi = range_tool\n",
    "\n",
    "show(column(p, select), notebook_handle=True)\n",
    "interact(update, f=[\"day\", \"month\", \"year\"])"
   ]
  },
  {
   "cell_type": "code",
   "execution_count": null,
   "metadata": {},
   "outputs": [],
   "source": []
  }
 ],
 "metadata": {
  "kernelspec": {
   "display_name": "Python 3",
   "language": "python",
   "name": "python3"
  },
  "language_info": {
   "codemirror_mode": {
    "name": "ipython",
    "version": 3
   },
   "file_extension": ".py",
   "mimetype": "text/x-python",
   "name": "python",
   "nbconvert_exporter": "python",
   "pygments_lexer": "ipython3",
   "version": "3.7.3"
  }
 },
 "nbformat": 4,
 "nbformat_minor": 2
}
