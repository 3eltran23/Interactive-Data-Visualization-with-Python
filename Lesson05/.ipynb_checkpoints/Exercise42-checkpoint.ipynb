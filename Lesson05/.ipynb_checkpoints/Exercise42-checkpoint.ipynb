{
 "cells": [
  {
   "cell_type": "code",
   "execution_count": null,
   "metadata": {},
   "outputs": [],
   "source": [
    "#Import pandas library and read DataFrame from DATA_PATH \n",
    "\n",
    "import pandas as pd \n",
    "%matplotlib inline\n",
    "import numpy as np \n",
    "\n",
    "from pathlib import Path\n",
    "from bokeh.plotting import figure, show, output_file\n",
    "from bokeh.plotting import figure, output_notebook, show, ColumnDataSource\n",
    "\n",
    "DATA_PATH = Path('../datasets/chap5_data/')"
   ]
  },
  {
   "cell_type": "markdown",
   "metadata": {},
   "source": [
    "**set the output as notebook**"
   ]
  },
  {
   "cell_type": "code",
   "execution_count": null,
   "metadata": {},
   "outputs": [],
   "source": [
    "output_notebook()"
   ]
  },
  {
   "cell_type": "markdown",
   "metadata": {},
   "source": [
    "**Read the data as Dataframe. Filter the rows according to countries(`UK` and `France`).\n",
    "Make it as `ColumnDataSource` so that bokeh can access it by columns names**"
   ]
  },
  {
   "cell_type": "code",
   "execution_count": null,
   "metadata": {},
   "outputs": [],
   "source": [
    "uk_eu_population = pd.read_csv(DATA_PATH / \"uk_europe_population_2005_2019.csv\")\n",
    "uk_population = uk_eu_population[uk_eu_population.country == 'UK']\n",
    "source_uk = ColumnDataSource(dict(year=uk_population.year, change=uk_population.change))\n",
    "france_population = uk_eu_population[uk_eu_population.country == 'France']\n",
    "source_france = ColumnDataSource(dict(year=france_population.year, change=france_population.change))"
   ]
  },
  {
   "cell_type": "markdown",
   "metadata": {},
   "source": [
    "**plot both line on figure**"
   ]
  },
  {
   "cell_type": "code",
   "execution_count": null,
   "metadata": {},
   "outputs": [],
   "source": [
    "\n",
    "TOOLTIPS = [\n",
    "    (\"population:\", \"@change\")\n",
    "]\n",
    "\n",
    "r = figure(title=\"Line Plot comparing Population Change\", plot_height=450, tooltips=TOOLTIPS)\n",
    "\n",
    "r.line(x=\"year\", y=\"change\", source=source_uk, color='#1F78B4', legend='UK', line_color=\"red\", line_width=3)\n",
    "r.line(x=\"year\", y=\"change\", source=source_france, legend='France', line_color=\"black\", line_width=2)\n",
    "\n",
    "r.grid.grid_line_alpha=0.3\n",
    "\n",
    "show(r)"
   ]
  },
  {
   "cell_type": "code",
   "execution_count": null,
   "metadata": {},
   "outputs": [],
   "source": []
  }
 ],
 "metadata": {
  "kernelspec": {
   "display_name": "Python 3",
   "language": "python",
   "name": "python3"
  },
  "language_info": {
   "codemirror_mode": {
    "name": "ipython",
    "version": 3
   },
   "file_extension": ".py",
   "mimetype": "text/x-python",
   "name": "python",
   "nbconvert_exporter": "python",
   "pygments_lexer": "ipython3",
   "version": "3.7.3"
  }
 },
 "nbformat": 4,
 "nbformat_minor": 2
}
