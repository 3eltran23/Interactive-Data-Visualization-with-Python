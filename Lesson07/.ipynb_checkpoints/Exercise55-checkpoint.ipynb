{
 "cells": [
  {
   "cell_type": "code",
   "execution_count": 1,
   "metadata": {},
   "outputs": [
    {
     "ename": "ModuleNotFoundError",
     "evalue": "No module named 'chart_studio'",
     "output_type": "error",
     "traceback": [
      "\u001b[1;31m---------------------------------------------------------------------------\u001b[0m",
      "\u001b[1;31mModuleNotFoundError\u001b[0m                       Traceback (most recent call last)",
      "\u001b[1;32m<ipython-input-1-7db8bd9622ce>\u001b[0m in \u001b[0;36m<module>\u001b[1;34m\u001b[0m\n\u001b[0;32m      1\u001b[0m \u001b[1;32mimport\u001b[0m \u001b[0mpandas\u001b[0m \u001b[1;32mas\u001b[0m \u001b[0mpd\u001b[0m\u001b[1;33m\u001b[0m\u001b[1;33m\u001b[0m\u001b[0m\n\u001b[0;32m      2\u001b[0m \u001b[1;32mimport\u001b[0m \u001b[0mnumpy\u001b[0m \u001b[1;32mas\u001b[0m \u001b[0mnp\u001b[0m\u001b[1;33m\u001b[0m\u001b[1;33m\u001b[0m\u001b[0m\n\u001b[1;32m----> 3\u001b[1;33m \u001b[1;32mimport\u001b[0m \u001b[0mchart_studio\u001b[0m\u001b[1;33m.\u001b[0m\u001b[0mplotly\u001b[0m \u001b[1;32mas\u001b[0m \u001b[0mpy\u001b[0m\u001b[1;33m\u001b[0m\u001b[1;33m\u001b[0m\u001b[0m\n\u001b[0m\u001b[0;32m      4\u001b[0m \u001b[1;32mimport\u001b[0m \u001b[0mplotly\u001b[0m\u001b[1;33m.\u001b[0m\u001b[0mgraph_objs\u001b[0m \u001b[1;32mas\u001b[0m \u001b[0mgo\u001b[0m\u001b[1;33m\u001b[0m\u001b[1;33m\u001b[0m\u001b[0m\n",
      "\u001b[1;31mModuleNotFoundError\u001b[0m: No module named 'chart_studio'"
     ]
    }
   ],
   "source": [
    "import pandas as pd\n",
    "import numpy as np\n",
    "import chart_studio.plotly as py\n",
    "import plotly.graph_objs as go"
   ]
  },
  {
   "cell_type": "code",
   "execution_count": 3,
   "metadata": {},
   "outputs": [],
   "source": [
    "co2 = pd.read_csv('../datasets/co2.csv')\n",
    "gm = pd.read_csv('../datasets/gapminder.csv')\n",
    "df_gm = gm[['Country', 'region']].drop_duplicates()\n",
    "df_w_regions = pd.merge(co2, df_gm, left_on='country', right_on='Country', how='inner')\n",
    "df_w_regions = df_w_regions.drop('Country', axis='columns')\n",
    "new_co2 = pd.melt(df_w_regions, id_vars=['country', 'region'])\n",
    "columns = ['country', 'region', 'year', 'co2']\n",
    "new_co2.columns = columns\n",
    "df_co2 = new_co2[new_co2['year'].astype('int64') > 1963]\n",
    "df_co2 = df_co2.sort_values(by=['country', 'year'])\n",
    "df_co2['year'] = df_co2['year'].astype('int64')\n",
    "df_g = gm[['Country', 'Year', 'gdp', 'population', 'fertility', 'life']]\n",
    "df_g.columns = ['country', 'year', 'gdp', 'population', 'fertility', 'life']\n",
    "data = pd.merge(df_co2, df_g, on=['country', 'year'], how='left')\n",
    "data = data.dropna()"
   ]
  },
  {
   "cell_type": "code",
   "execution_count": 4,
   "metadata": {},
   "outputs": [
    {
     "ename": "NameError",
     "evalue": "name 'go' is not defined",
     "output_type": "error",
     "traceback": [
      "\u001b[1;31m---------------------------------------------------------------------------\u001b[0m",
      "\u001b[1;31mNameError\u001b[0m                                 Traceback (most recent call last)",
      "\u001b[1;32m<ipython-input-4-a0b408726242>\u001b[0m in \u001b[0;36m<module>\u001b[1;34m\u001b[0m\n\u001b[0;32m      1\u001b[0m source = [\n\u001b[1;32m----> 2\u001b[1;33m     go.Bar(x = data['region'], \n\u001b[0m\u001b[0;32m      3\u001b[0m           y = data.co2[data['year'] == 1970]), \n\u001b[0;32m      4\u001b[0m     go.Bar(x = data['region'], \n\u001b[0;32m      5\u001b[0m           y = data.co2[data['year'] == 1980]), \n",
      "\u001b[1;31mNameError\u001b[0m: name 'go' is not defined"
     ]
    }
   ],
   "source": [
    "source = [\n",
    "    go.Bar(x = data['region'], \n",
    "          y = data.co2[data['year'] == 1970]), \n",
    "    go.Bar(x = data['region'], \n",
    "          y = data.co2[data['year'] == 1980]), \n",
    "    go.Bar(x = data['region'], \n",
    "          y = data.co2[data['year'] == 1990]),\n",
    "    go.Bar(x = data['region'], \n",
    "          y = data.co2[data['year'] == 2000]),\n",
    "    go.Bar(x = data['region'], \n",
    "          y = data.co2[data['year'] == 2010]),\n",
    "]\n",
    "\n",
    "layout = go.Layout(barmode = 'stack')\n",
    "\n",
    "fig = go.Figure(source, layout)\n",
    "\n",
    "fig.show()"
   ]
  },
  {
   "cell_type": "code",
   "execution_count": null,
   "metadata": {},
   "outputs": [],
   "source": []
  }
 ],
 "metadata": {
  "kernelspec": {
   "display_name": "Python 3",
   "language": "python",
   "name": "python3"
  },
  "language_info": {
   "codemirror_mode": {
    "name": "ipython",
    "version": 3
   },
   "file_extension": ".py",
   "mimetype": "text/x-python",
   "name": "python",
   "nbconvert_exporter": "python",
   "pygments_lexer": "ipython3",
   "version": "3.7.3"
  }
 },
 "nbformat": 4,
 "nbformat_minor": 2
}
